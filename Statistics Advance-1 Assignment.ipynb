{
 "cells": [
  {
   "cell_type": "markdown",
   "id": "5f4b4513-263c-442b-937b-1ec9e1adeba0",
   "metadata": {},
   "source": [
    "# Statistics Advanced - 1| Assignment"
   ]
  },
  {
   "cell_type": "markdown",
   "id": "9c73261c-05c0-4c69-9f4d-e3dc60e95e5f",
   "metadata": {},
   "source": [
    "# Question 1: What is a random variable in probability theory?\n",
    "- In probability, a random variable is a real valued function whose domain is the sample space of the random experiment. It means that each outcome of a random experiment is associated with a single real number, and the single real number may vary with the different outcomes of a random experiment.\n",
    "- It is a function that assigns a numerical value to each possible outcome of a random process.\n",
    "- Example 1 (Coin Toss):\n",
    "\n",
    "Random experiment → Toss a coin.\n",
    "Possible outcomes → {Head, Tail}.\n",
    "If we define a random variable X =\n",
    "1 if Head appears\n",
    "0 if Tail appears\n",
    "Then, X is a random variable."
   ]
  },
  {
   "cell_type": "markdown",
   "id": "a1eaec2c-cca9-4fc4-a1b8-aa6a52dbfe22",
   "metadata": {},
   "source": [
    "# Question 2: What are the types of random variables?\n",
    "-In probability theory, random variables are mainly of two types:\n",
    "# 1. Discrete Random Variable\n",
    "- A discrete random variable has a finite or countably infinite number of possible outcomes. \n",
    "- Takes finite or countable values.\n",
    "- Values are separate and distinct.\n",
    "- Examples: Tossing a coin (X = 0 or 1), Rolling a die (1–6).\n",
    "# 2. Continuous Random Variable\n",
    "- A continuous random variable can take on any value within a given interval or range, representing an uncountable set of values. \n",
    "- Takes uncountably infinite values within an interval of real numbers.\n",
    "- Values are not distinct but continuous.\n",
    "- Examples: Height of a person, weight, time taken to complete a task."
   ]
  },
  {
   "cell_type": "markdown",
   "id": "5a71e6e2-f585-42da-9788-fb05090a8e72",
   "metadata": {},
   "source": [
    "# Question 3: Explain the difference between discrete and continuous distributions.\n",
    "- Types of Probability Distribution\n",
    "# 1. Discrete Distribution\n",
    "- It is the probability distribution of a discrete random variable.\n",
    "- A discrete random variable takes finite or countable values.\n",
    "- Probability of each value is given as .\n",
    "- It is represented by Probability Mass Function (PMF).\n",
    "- Examples: Toss of a coin (0 or 1), Roll of a die (1 to 6), Number of students present in class.\n",
    "# 2. Continuous Distribution\n",
    "- It is the probability distribution of a continuous random variable.\n",
    "- A continuous random variable can take infinite or uncountable values within an interval.\n",
    "- Probability of an exact value is zero; probability is calculated over an interval, e.g. .\n",
    "- It is represented by Probability Density Function (PDF).\n",
    "- Examples: Height of students, weight of a person, time taken to complete a task, temperature."
   ]
  },
  {
   "cell_type": "markdown",
   "id": "bf7ce379-4ad1-4165-9c3e-0e19f2600199",
   "metadata": {},
   "source": [
    "# Question 4: What is a binomial distribution, and how is it used in probability?\n",
    "-A binomial distribution is a discrete probability distribution that gives the probability of getting exactly r successes in n independent Bernoulli trials, where the probability of success in each trial is the same.\n",
    "- Conditions for Binomial Distribution:\n",
    "- 1. The experiment has a fixed number of trials (n).\n",
    "- 2. Each trial has only two outcomes → Success or Failure.\n",
    "- 3. Probability of success (p) remains the same in each trial.\n",
    "- 4. All trials are independent.\n",
    "Probability Formula:\n",
    "P(X = r) = \\binom{n}{r} p^r (1-p)^{\\,n-r}\n",
    "Where,\n",
    "= number of trials\n",
    "= number of successes\n",
    "= probability of success\n",
    "= probability of failure\n",
    "- Example:\n",
    "If a coin is tossed 5 times, what is the probability of getting exactly 3 heads?\n",
    "Here, , , .\n",
    "P(X=3) = \\binom{5}{3}\\left(\\tfrac{1}{2}\\right)^3 \\left(\\tfrac{1}{2}\\right)^2\n",
    "= 10 \\times \\tfrac{1}{8} \\times \\tfrac{1}{4} = \\tfrac{10}{32} = 0.3125\n",
    "So, probability = 0.3125."
   ]
  },
  {
   "cell_type": "markdown",
   "id": "9e02edc4-a899-4923-8763-ffac3988b572",
   "metadata": {},
   "source": [
    "# Question 5: What is the standard normal distribution, and why is it important?\n",
    "- Standard Normal Distribution\n",
    "- Definition:\n",
    "The standard normal distribution is a special case of the normal distribution where the mean (µ) = 0 and the standard deviation (σ) = 1.\n",
    "The variable that follows it is called a standard normal variable (Z).\n",
    "Z-Score Transformation:\n",
    "Any normal distribution can be converted into a standard normal distribution using:\n",
    "Z = \\frac{X - \\mu}{\\sigma}\n",
    "- Importance:\n",
    "1. Makes probability calculations simple using Z-tables.\n",
    "2. Provides a common scale to compare data from different normal distributions.\n",
    "3. Forms the basis of many statistical methods like hypothesis testing, confidence intervals, and quality control."
   ]
  },
  {
   "cell_type": "markdown",
   "id": "68f51756-871b-42f1-8a9e-f153dad8cced",
   "metadata": {},
   "source": [
    "# Question 6: What is the Central Limit Theorem (CLT), and why is it critical in statistics?\n",
    "- Definition:\n",
    "The Central Limit Theorem states that when we take a large number of independent random samples from any population with mean  and standard deviation, the sampling distribution of the sample mean will approximately follow a normal distribution, regardless of the shape of the original population.\n",
    "\n",
    "- Mathematically, for sample size :\n",
    "\\bar{X} \\sim N \\left( \\mu, \\frac{\\sigma}{\\sqrt{n}} \\right)\n",
    "Why is CLT Important?\n",
    "1. Foundation of Statistics:\n",
    "It allows us to apply normal probability theory to real-world problems even when the original data is not normally distributed.\n",
    "2. Simplifies Analysis:\n",
    "Helps in calculating probabilities and confidence intervals for sample means.\n",
    "3. Hypothesis Testing:\n",
    "Provides the basis for many statistical tests (Z-test, t-test, ANOVA).\n",
    "4. Practical Use:\n",
    "Used in quality control, survey analysis, finance, and machine learning."
   ]
  },
  {
   "cell_type": "markdown",
   "id": "1f8b3d3a-66a8-4729-af4a-f3d2aab3513b",
   "metadata": {},
   "source": [
    "# Question 7: What is the significance of confidence intervals in statistical analysis?\n",
    "- A confidence interval (CI) is a range of values, derived from sample data, that is likely to contain the true population parameter (like mean or proportion) with a certain level of confidence (e.g., 95%).\n",
    "- Significance / Importance:\n",
    "1. Estimation of Population Parameters:\n",
    "Instead of giving a single value (point estimate), CI gives a range, which is more reliable.\n",
    "2. Measure of Precision:\n",
    "A narrow CI indicates high precision of estimate, while a wide CI indicates more uncertainty.\n",
    "3. Decision Making:\n",
    "Confidence intervals are widely used in research, quality control, medicine, and social sciences to make conclusions about populations.\n",
    "4. Basis for Hypothesis Testing:\n",
    "If a hypothesized value (e.g., population mean) lies outside the CI, it can be rejected at the given confidence level.\n",
    "5.  Avoids Misleading Point Estimates:\n",
    "A single value (like mean = 50) may be misleading, but CI shows the possible variation.\n",
    "6. Accounts for Sampling Error:\n",
    "Confidence intervals reflect the uncertainty that arises because we use samples instead of the whole population.\n",
    "7. Helps Compare Groups:\n",
    "In experiments or surveys, comparing the CI of two groups helps check if differences are statistically significant.\n",
    "8. Supports Risk Assessment:\n",
    "In business, finance, and medicine, CI helps in understanding possible risks by showing the range of outcomes."
   ]
  },
  {
   "cell_type": "markdown",
   "id": "fc9bcdca-e421-4d6f-9fa2-ff4ff7655d37",
   "metadata": {},
   "source": [
    "# Question 8: What is the concept of expected value in a probability distribution?\n",
    "- The expected value (E[X]) of a random variable is the long-run average or mean value of the outcomes of a random experiment.\n",
    "It represents the theoretical average result if the experiment is repeated many times.\n",
    "- Formula:\n",
    "For a discrete random variable:\n",
    "E[X] = \\sum x_i \\, P(x_i)\n",
    "For a continuous random variable:\n",
    "E[X] = \\int_{-\\infty}^{\\infty} x \\, f(x) \\, dx\n",
    "Where  are possible values,  their probabilities, and  is the probability density function.\n",
    "- Example:\n",
    "Roll a fair die.\n",
    "Possible outcomes = {1, 2, 3, 4, 5, 6}, each with probability = 1/6.\n",
    "E[X] = \\frac{1+2+3+4+5+6}{6} = \\frac{21}{6} = 3.5\n",
    "So, the expected value = 3.5 (average outcome of many rolls).\n",
    "- Significance:\n",
    "1. Represents the mean value of a distribution.\n",
    "2. Helps in decision making under uncertainty (finance, insurance, gambling).\n",
    "3. Basis for concepts like variance, standard deviation, and risk analysis.\n",
    "4. Provides a measure of the “center” of a probability distribution."
   ]
  },
  {
   "cell_type": "markdown",
   "id": "86b38015-edd9-4913-a654-41c7cd036aa3",
   "metadata": {},
   "source": [
    "# Question 9: Write a Python program to generate 1000 random numbers from a normal\n",
    "distribution with mean = 50 and standard deviation = 5. Compute its mean and standard\n",
    "deviation using NumPy, and draw a histogram to visualize the distribution."
   ]
  },
  {
   "cell_type": "code",
   "execution_count": 1,
   "id": "db7fd3bc-e9ff-42ec-a2f6-e950177fd674",
   "metadata": {},
   "outputs": [
    {
     "name": "stdout",
     "output_type": "stream",
     "text": [
      "Calculated Mean: 50.050108656188925\n",
      "Calculated Standard Deviation: 5.114478614344664\n"
     ]
    },
    {
     "data": {
      "image/png": "[encoded data removed]",
      "text/plain": [
       "<Figure size 640x480 with 1 Axes>"
      ]
     },
     "metadata": {},
     "output_type": "display_data"
    }
   ],
   "source": [
    "# with mean = 50 and standard deviation = 5,\n",
    "# then compute mean, standard deviation and plot histogram.\n",
    "\n",
    "import numpy as np\n",
    "import matplotlib.pyplot as plt\n",
    "\n",
    "# Generate 1000 random numbers from Normal distribution\n",
    "data = np.random.normal(loc=50, scale=5, size=1000)\n",
    "# loc = mean, scale = standard deviation, size = number of values\n",
    "# Compute mean and standard deviation\n",
    "mean_val = np.mean(data)\n",
    "std_val = np.std(data)\n",
    "\n",
    "print(\"Calculated Mean:\", mean_val)\n",
    "print(\"Calculated Standard Deviation:\", std_val)\n",
    "\n",
    "# Draw histogram\n",
    "plt.hist(data, bins=30, edgecolor='black')\n",
    "plt.title(\"Normal Distribution (Mean=50, Std=5)\")\n",
    "plt.xlabel(\"Value\")\n",
    "plt.ylabel(\"Frequency\")\n",
    "plt.show()"
   ]
  }
 ],
 "metadata": {
  "kernelspec": {
   "display_name": "Python 3 (ipykernel)",
   "language": "python",
   "name": "python3"
  },
  "language_info": {
   "codemirror_mode": {
    "name": "ipython",
    "version": 3
   },
   "file_extension": ".py",
   "mimetype": "text/x-python",
   "name": "python",
   "nbconvert_exporter": "python",
   "pygments_lexer": "ipython3",
   "version": "3.13.7"
  }
 },
 "nbformat": 4,
 "nbformat_minor": 5
}
